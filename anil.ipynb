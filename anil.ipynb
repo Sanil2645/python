{
 "cells": [
  {
   "cell_type": "code",
   "execution_count": 1,
   "id": "f8ef11cf",
   "metadata": {},
   "outputs": [
    {
     "name": "stdout",
     "output_type": "stream",
     "text": [
      "5\n"
     ]
    }
   ],
   "source": [
    "a=5\n",
    "print(a)"
   ]
  },
  {
   "cell_type": "code",
   "execution_count": 3,
   "id": "ede746c1",
   "metadata": {},
   "outputs": [
    {
     "name": "stdout",
     "output_type": "stream",
     "text": [
      "10\n"
     ]
    }
   ],
   "source": [
    "a=10\n",
    "print(a)"
   ]
  },
  {
   "cell_type": "markdown",
   "id": "d0a10085",
   "metadata": {},
   "source": [
    "# welcome"
   ]
  },
  {
   "cell_type": "markdown",
   "id": "d0b6a66c",
   "metadata": {},
   "source": [
    "## welcome\n",
    "### to vasavi \n",
    "### engineering\n",
    "#### college"
   ]
  },
  {
   "cell_type": "markdown",
   "id": "9f993d23",
   "metadata": {},
   "source": [
    "###### tadepalligudem"
   ]
  },
  {
   "cell_type": "markdown",
   "id": "0b602300",
   "metadata": {},
   "source": [
    "**apssdc** #bold conversion  \n",
    "*apssdc* #italic conversion  \n",
    "***apssdc&vasavi***"
   ]
  },
  {
   "cell_type": "markdown",
   "id": "24d74809",
   "metadata": {},
   "source": [
    "+ one  \n",
    "- two  \n",
    "+ three  \n",
    "* four  \n",
    "    + five  \n",
    "    - six  \n",
    "    * seven  \n",
    "        + eight  \n",
    "        - nine\n",
    "        * zero"
   ]
  },
  {
   "cell_type": "markdown",
   "id": "5304a2d2",
   "metadata": {},
   "source": [
    "## order list and sub list\n",
    "1. "
   ]
  },
  {
   "cell_type": "markdown",
   "id": "ae0a6899",
   "metadata": {},
   "source": [
    "### comments\n",
    "- user readable information or data  \n",
    "- comment doesnot execute  \n",
    "- it is mentioned in '#'  \n",
    "- for multiple line comment mention in the formationj of ''' '''"
   ]
  },
  {
   "cell_type": "markdown",
   "id": "1a032ebf",
   "metadata": {},
   "source": [
    "### variable\n",
    "- which is used to starting data  \n",
    "- variable starts with characters,underscore  \n",
    "- variable couldnot start with numbers,special symbols,keywords"
   ]
  },
  {
   "cell_type": "code",
   "execution_count": 4,
   "id": "813c2603",
   "metadata": {},
   "outputs": [
    {
     "data": {
      "text/plain": [
       "67"
      ]
     },
     "execution_count": 4,
     "metadata": {},
     "output_type": "execute_result"
    }
   ],
   "source": [
    "p=67\n",
    "p"
   ]
  },
  {
   "cell_type": "code",
   "execution_count": 8,
   "id": "5d1c44f1",
   "metadata": {},
   "outputs": [
    {
     "data": {
      "text/plain": [
       "'anil kumar'"
      ]
     },
     "execution_count": 8,
     "metadata": {},
     "output_type": "execute_result"
    }
   ],
   "source": [
    "a=\"anil kumar\"\n",
    "a"
   ]
  },
  {
   "cell_type": "code",
   "execution_count": 9,
   "id": "4c2c12e9",
   "metadata": {},
   "outputs": [
    {
     "data": {
      "text/plain": [
       "'anil kumar'"
      ]
     },
     "execution_count": 9,
     "metadata": {},
     "output_type": "execute_result"
    }
   ],
   "source": [
    "a='anil kumar'\n",
    "a"
   ]
  },
  {
   "cell_type": "markdown",
   "id": "9f815ddc",
   "metadata": {},
   "source": [
    "### DATATYPES\n",
    "- int(all integers values)  \n",
    "- float(integer with decimal point)      \n",
    "- str(combination of characters or group of characters)  \n",
    "- complex(number with real and imaginary part)    \n",
    "- boolean(true,false)"
   ]
  },
  {
   "cell_type": "code",
   "execution_count": 12,
   "id": "a3bc895c",
   "metadata": {},
   "outputs": [],
   "source": [
    "a=506\n",
    "b=5.06\n",
    "c=\"apssdc\"\n",
    "d='p'\n",
    "e=1+2j\n",
    "f='1+2j'\n",
    "g=True"
   ]
  },
  {
   "cell_type": "code",
   "execution_count": 13,
   "id": "929815c6",
   "metadata": {},
   "outputs": [
    {
     "name": "stdout",
     "output_type": "stream",
     "text": [
      "<class 'int'>\n",
      "<class 'float'>\n",
      "<class 'str'>\n",
      "<class 'str'>\n",
      "<class 'complex'>\n",
      "<class 'str'>\n",
      "<class 'bool'>\n"
     ]
    }
   ],
   "source": [
    "print(type(a))  \n",
    "print(type(b))  \n",
    "print(type(c))  \n",
    "print(type(d))  \n",
    "print(type(e))  \n",
    "print(type(f))  \n",
    "print(type(g))"
   ]
  },
  {
   "cell_type": "markdown",
   "id": "2305378b",
   "metadata": {},
   "source": [
    "### Typecasting\n",
    "- which converts the data from one datatype to another datatype"
   ]
  },
  {
   "cell_type": "code",
   "execution_count": 14,
   "id": "d7654790",
   "metadata": {},
   "outputs": [
    {
     "name": "stdout",
     "output_type": "stream",
     "text": [
      "<class 'int'>\n"
     ]
    }
   ],
   "source": [
    "_abc=456\n",
    "print(type(_abc))"
   ]
  },
  {
   "cell_type": "code",
   "execution_count": 17,
   "id": "7479eb90",
   "metadata": {},
   "outputs": [
    {
     "name": "stdout",
     "output_type": "stream",
     "text": [
      "<class 'str'>\n",
      "456\n"
     ]
    }
   ],
   "source": [
    "z=str(_abc)\n",
    "print(type(z))  \n",
    "print(z)"
   ]
  },
  {
   "cell_type": "code",
   "execution_count": 18,
   "id": "8faa24cd",
   "metadata": {},
   "outputs": [
    {
     "name": "stdout",
     "output_type": "stream",
     "text": [
      "<class 'complex'>\n",
      "(456+0j)\n"
     ]
    }
   ],
   "source": [
    "z=complex(_abc)\n",
    "print(type(z))\n",
    "print(z)"
   ]
  },
  {
   "cell_type": "code",
   "execution_count": 19,
   "id": "29a59777",
   "metadata": {},
   "outputs": [
    {
     "name": "stdout",
     "output_type": "stream",
     "text": [
      "<class 'int'>\n"
     ]
    }
   ],
   "source": [
    "abc=\"vasavi college\"\n",
    "print(type(_abc))"
   ]
  },
  {
   "cell_type": "code",
   "execution_count": 20,
   "id": "4867ea14",
   "metadata": {},
   "outputs": [
    {
     "name": "stdout",
     "output_type": "stream",
     "text": [
      "<class 'int'>\n",
      "12334453\n"
     ]
    }
   ],
   "source": [
    "abc=\"12334453\"\n",
    "z=int(abc)\n",
    "print(type(z))\n",
    "print(z)"
   ]
  },
  {
   "cell_type": "code",
   "execution_count": 21,
   "id": "5703a9be",
   "metadata": {},
   "outputs": [
    {
     "name": "stdout",
     "output_type": "stream",
     "text": [
      "<class 'float'>\n",
      "12334453.0\n"
     ]
    }
   ],
   "source": [
    "z=float(abc)\n",
    "print(type(z))\n",
    "print(z)"
   ]
  },
  {
   "cell_type": "code",
   "execution_count": 22,
   "id": "e05117fc",
   "metadata": {},
   "outputs": [
    {
     "name": "stdout",
     "output_type": "stream",
     "text": [
      "<class 'complex'>\n",
      "(12334453+0j)\n"
     ]
    }
   ],
   "source": [
    "z=complex(abc)\n",
    "print(type(z))\n",
    "print(z)"
   ]
  },
  {
   "cell_type": "code",
   "execution_count": null,
   "id": "2335c6b2",
   "metadata": {},
   "outputs": [],
   "source": []
  }
 ],
 "metadata": {
  "kernelspec": {
   "display_name": "Python 3 (ipykernel)",
   "language": "python",
   "name": "python3"
  },
  "language_info": {
   "codemirror_mode": {
    "name": "ipython",
    "version": 3
   },
   "file_extension": ".py",
   "mimetype": "text/x-python",
   "name": "python",
   "nbconvert_exporter": "python",
   "pygments_lexer": "ipython3",
   "version": "3.9.7"
  }
 },
 "nbformat": 4,
 "nbformat_minor": 5
}
